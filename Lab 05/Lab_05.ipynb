{
  "nbformat": 4,
  "nbformat_minor": 0,
  "metadata": {
    "colab": {
      "provenance": []
    },
    "kernelspec": {
      "name": "python3",
      "display_name": "Python 3"
    },
    "language_info": {
      "name": "python"
    }
  },
  "cells": [
    {
      "cell_type": "code",
      "execution_count": null,
      "metadata": {
        "id": "lSvHnHRPYKeD"
      },
      "outputs": [],
      "source": [
        "graph = {\n",
        "    'Arad': {'Sibiu': 140, 'Zerind': 75, 'Timisoara': 118},\n",
        "    'Zerind': {'Arad': 75, 'Oradea': 71},\n",
        "    'Oradea': {'Zerind': 71, 'Sibiu': 151},\n",
        "    'Sibiu': {'Rimnicu Vilcea': 80, 'Arad': 140, 'Oradea': 151, 'Fagaras': 99},\n",
        "    'Fagaras': {'Sibiu': 99, 'Bucharest': 211},\n",
        "    'Rimnicu Vilcea': {'Pitesti': 97, 'Sibiu': 80, 'Craiova': 146},\n",
        "    'Timisoara': {'Arad': 118, 'Lugoj': 111},\n",
        "    'Lugoj': {'Timisoara': 111, 'Mehadia': 70},\n",
        "    'Mehadia': {'Lugoj': 70, 'Drobeta': 75},\n",
        "    'Drobeta': {'Mehadia': 75, 'Craiova': 120},\n",
        "    'Craiova': {'Drobeta': 120, 'Rimnicu Vilcea': 146, 'Pitesti': 138},\n",
        "    'Pitesti': {'Craiova': 138, 'Rimnicu Vilcea': 97, 'Bucharest': 101},\n",
        "    'Bucharest': {'Fagaras': 211, 'Pitesti': 101, 'Giurgiu': 90}\n",
        "}\n",
        "\n",
        "\n",
        "def iterative_deepening_search(start, goal, max_depth):\n",
        "    for depth in range(max_depth + 1):\n",
        "        visited = set()\n",
        "        path = []\n",
        "        if depth_limited_search(start, goal, depth, visited, path):\n",
        "            return path\n",
        "    return None\n",
        "\n",
        "\n",
        "def depth_limited_search(node, goal, depth, visited, path):\n",
        "    if depth == 0:\n",
        "        return False\n",
        "    if node == goal:\n",
        "        path.append(node)\n",
        "        return True\n",
        "    visited.add(node)\n",
        "    for neighbor, cost in graph[node].items():\n",
        "        if neighbor not in visited:\n",
        "            if depth_limited_search(neighbor, goal, depth - 1, visited, path):\n",
        "                path.append(node)\n",
        "                return True\n",
        "    return False\n",
        "\n",
        "\n",
        "# Find the shortest path from Arad to Bucharest with IDS (maximum depth = 10)\n",
        "start_city = 'Arad'\n",
        "goal_city = 'Bucharest'\n",
        "max_depth = 10\n",
        "\n",
        "result = iterative_deepening_search(start_city, goal_city, max_depth)\n",
        "\n",
        "if result:\n",
        "    result.reverse()\n",
        "    print(\"Shortest path from {} to {}:\".format(start_city, goal_city))\n",
        "    print(\" -> \".join(result))\n",
        "else:\n",
        "    print(\"No path found from {} to {} within the given depth.\".format(\n",
        "        start_city, goal_city))\n"
      ]
    }
  ]
}