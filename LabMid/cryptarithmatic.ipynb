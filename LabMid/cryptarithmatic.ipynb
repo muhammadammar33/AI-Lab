{
 "cells": [
  {
   "cell_type": "code",
   "execution_count": 7,
   "metadata": {},
   "outputs": [],
   "source": [
    "from itertools import permutations\n",
    "digits = [i for i in range(0,10)]"
   ]
  },
  {
   "cell_type": "code",
   "execution_count": 8,
   "metadata": {},
   "outputs": [],
   "source": [
    "def cryptarithmatic(operand_1 : str, operand_2 : str, operator : str, result : str):\n",
    "    operand_1 = operand_1.upper()\n",
    "    operand_2 = operand_2.upper()\n",
    "    result = result.upper()\n",
    "    all_characters = list(set(operand_1 + operand_2 + result))      # converting string characters to set to eleminate duplicates\n",
    "    length = len(all_characters)\n",
    "    if length > 10 or length == 0:                                  # if characters are greater than 10 or no characters at all\n",
    "        return None\n",
    "    to_return = {}\n",
    "    possible_permutations = permutations(digits, length)\n",
    "    for i in possible_permutations:\n",
    "        to_return = {}\n",
    "        for j in range(length):                                     # mapping each character to the unique permutation\n",
    "            to_return[all_characters[j]] = i[j]\n",
    "        oprnd1 = 0; oprnd2 = 0; rslt = 0\n",
    "        # calculating values of operands and result for comparison\n",
    "        for _ in range(len(operand_1)):                             \n",
    "            oprnd1 = oprnd1*10 + to_return[operand_1[_]]\n",
    "        for _ in range(len(operand_2)):\n",
    "            oprnd2 = oprnd2*10 + to_return[operand_2[_]]\n",
    "        for _ in range(len(result)):\n",
    "            rslt = rslt*10 + to_return[result[_]]\n",
    "        if operator == \"+\":\n",
    "            if oprnd1 + oprnd2 == rslt:\n",
    "                return to_return\n",
    "        elif operator == \"-\":\n",
    "            if oprnd1 - oprnd2 == rslt:\n",
    "                return to_return\n",
    "        elif operator == \"*\":\n",
    "            if oprnd1 * oprnd2 == rslt:\n",
    "                return to_return\n",
    "        elif operator == \"/\":\n",
    "            if oprnd1 / oprnd2 == rslt:\n",
    "                return to_return\n",
    "        else:\n",
    "            return None\n",
    "    return None"
   ]
  },
  {
   "cell_type": "code",
   "execution_count": 9,
   "metadata": {},
   "outputs": [
    {
     "name": "stdout",
     "output_type": "stream",
     "text": [
      "{'E': 1, 'M': 9, 'G': 0, 'B': 2, 'S': 6, 'L': 5, 'A': 4}\n"
     ]
    }
   ],
   "source": [
    "print(cryptarithmatic(\"base\", \"ball\" , \"+\" , \"games\"))"
   ]
  }
 ],
 "metadata": {
  "kernelspec": {
   "display_name": "Python 3",
   "language": "python",
   "name": "python3"
  },
  "language_info": {
   "codemirror_mode": {
    "name": "ipython",
    "version": 3
   },
   "file_extension": ".py",
   "mimetype": "text/x-python",
   "name": "python",
   "nbconvert_exporter": "python",
   "pygments_lexer": "ipython3",
   "version": "3.11.6"
  }
 },
 "nbformat": 4,
 "nbformat_minor": 2
}
